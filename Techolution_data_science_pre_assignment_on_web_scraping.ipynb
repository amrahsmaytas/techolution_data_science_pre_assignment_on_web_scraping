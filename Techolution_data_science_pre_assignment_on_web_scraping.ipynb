{
  "nbformat": 4,
  "nbformat_minor": 0,
  "metadata": {
    "colab": {
      "name": "Techolution_data_science_pre_assignment_on_web_scraping.ipynb",
      "version": "0.3.2",
      "provenance": [],
      "collapsed_sections": []
    },
    "kernelspec": {
      "name": "python3",
      "display_name": "Python 3"
    }
  },
  "cells": [
    {
      "metadata": {
        "id": "4U8kTkXSBD4Z",
        "colab_type": "text"
      },
      "cell_type": "markdown",
      "source": [
        "\n",
        "**Problem statement: Scrap the data from Techolution Careers website and store the data according to the date of posting(Most old first) as a DataFrame in CSV**"
      ]
    },
    {
      "metadata": {
        "id": "Avil4CcQDlDa",
        "colab_type": "text"
      },
      "cell_type": "markdown",
      "source": [
        " ***Importing all necessary packages , libraries***"
      ]
    },
    {
      "metadata": {
        "id": "K8_XMgz1A0Ck",
        "colab_type": "code",
        "colab": {}
      },
      "cell_type": "code",
      "source": [
        "import pandas as pd\n",
        "# import pandas for data manipulation and analysis\n",
        "import lxml\n",
        "#import the library used to query a website\n",
        "import urllib.request\n",
        "#import the Beautiful soup functions to parse the data returned from the website\n",
        "from bs4 import BeautifulSoup \n"
      ],
      "execution_count": 0,
      "outputs": []
    },
    {
      "metadata": {
        "id": "RF3zOqIxFTiz",
        "colab_type": "text"
      },
      "cell_type": "markdown",
      "source": [
        "**DATA COLLECTION**"
      ]
    },
    {
      "metadata": {
        "id": "f5ib_VoOENV1",
        "colab_type": "text"
      },
      "cell_type": "markdown",
      "source": [
        "** Let's import the element of the site , where all the data we are looking for ,  is present and we will store it in html**"
      ]
    },
    {
      "metadata": {
        "id": "sGlxvdLaFaUg",
        "colab_type": "code",
        "colab": {}
      },
      "cell_type": "code",
      "source": [
        "#specify the url\n",
        "url = \"https://techolution.app.param.ai/jobs\""
      ],
      "execution_count": 0,
      "outputs": []
    },
    {
      "metadata": {
        "id": "RY30-gLeExNt",
        "colab_type": "code",
        "colab": {}
      },
      "cell_type": "code",
      "source": [
        "html = \"\"\"   \n",
        "\n",
        "<div data-v-5b44ba93=\"\" class=\"sixteen wide mobile eleven wide tablet eleven wide computer column\" id=\"joblist\"><div data-v-5b44ba93=\"\" class=\"ui segments\"><div data-v-5b44ba93=\"\" class=\"ui segment\"><h2 data-v-5b44ba93=\"\"><i data-v-5b44ba93=\"\" class=\"param-icon icon param-icon-link_circle\" style=\"color: rgb(7, 136, 155);\"></i> Quality Assurance</h2></div> <div data-v-5b44ba93=\"\" class=\"ui segment job_list_card\"><div data-v-5b44ba93=\"\" class=\"ui bottom aligned grid\"><div data-v-5b44ba93=\"\" class=\"twelve wide computer twelve wide tablet sixteen wide mobile column\"><h3 data-v-5b44ba93=\"\" class=\"job_name text-ellipsis\">Sr.QA Engineer</h3> <p data-v-5b44ba93=\"\"><span data-v-5b44ba93=\"\">\n",
        "                    Full-time\n",
        "                    <span data-v-5b44ba93=\"\" class=\"description-fields-separator\"> · </span></span> <span data-v-5b44ba93=\"\">\n",
        "                    Hyderabad\n",
        "                    <span data-v-5b44ba93=\"\" class=\"description-fields-separator\"> · </span></span> <span data-v-5b44ba93=\"\">\n",
        "                    3 - 5 Years\n",
        "                  </span></p></div> <div data-v-5b44ba93=\"\" class=\"four wide right aligned computer tablet only column\"><span data-v-5b44ba93=\"\" class=\"date_posted\">a day ago</span></div></div></div></div><div data-v-5b44ba93=\"\" class=\"ui segments\"><div data-v-5b44ba93=\"\" class=\"ui segment\"><h2 data-v-5b44ba93=\"\"><i data-v-5b44ba93=\"\" class=\"param-icon icon param-icon-link_circle\" style=\"color: rgb(7, 136, 155);\"></i> Consulting</h2></div> <div data-v-5b44ba93=\"\" class=\"ui segment job_list_card\"><div data-v-5b44ba93=\"\" class=\"ui bottom aligned grid\"><div data-v-5b44ba93=\"\" class=\"twelve wide computer twelve wide tablet sixteen wide mobile column\"><h3 data-v-5b44ba93=\"\" class=\"job_name text-ellipsis\">Senior Cloud Specialist</h3> <p data-v-5b44ba93=\"\"><span data-v-5b44ba93=\"\">\n",
        "                    Full-time\n",
        "                    <span data-v-5b44ba93=\"\" class=\"description-fields-separator\"> · </span></span> <span data-v-5b44ba93=\"\">\n",
        "                    Singapore\n",
        "                    <span data-v-5b44ba93=\"\" class=\"description-fields-separator\"> · </span></span> <span data-v-5b44ba93=\"\">\n",
        "                    5 - 10 Years\n",
        "                  </span></p></div> <div data-v-5b44ba93=\"\" class=\"four wide right aligned computer tablet only column\"><span data-v-5b44ba93=\"\" class=\"date_posted\">13 days ago</span></div></div></div></div><div data-v-5b44ba93=\"\" class=\"ui segments\"><div data-v-5b44ba93=\"\" class=\"ui segment\"><h2 data-v-5b44ba93=\"\"><i data-v-5b44ba93=\"\" class=\"param-icon icon param-icon-link_circle\" style=\"color: rgb(7, 136, 155);\"></i> Information Technology</h2></div> <div data-v-5b44ba93=\"\" class=\"ui segment job_list_card\"><div data-v-5b44ba93=\"\" class=\"ui bottom aligned grid\"><div data-v-5b44ba93=\"\" class=\"twelve wide computer twelve wide tablet sixteen wide mobile column\"><h3 data-v-5b44ba93=\"\" class=\"job_name text-ellipsis\">Cloud Native Developer</h3> <p data-v-5b44ba93=\"\"><span data-v-5b44ba93=\"\">\n",
        "                    Full-time\n",
        "                    <span data-v-5b44ba93=\"\" class=\"description-fields-separator\"> · </span></span> <span data-v-5b44ba93=\"\">\n",
        "                    Hyderabad\n",
        "                    <span data-v-5b44ba93=\"\" class=\"description-fields-separator\"> · </span></span> <span data-v-5b44ba93=\"\">\n",
        "                    2 - 5 Years\n",
        "                  </span></p></div> <div data-v-5b44ba93=\"\" class=\"four wide right aligned computer tablet only column\"><span data-v-5b44ba93=\"\" class=\"date_posted\">14 days ago</span></div></div></div><div data-v-5b44ba93=\"\" class=\"ui segment job_list_card\"><div data-v-5b44ba93=\"\" class=\"ui bottom aligned grid\"><div data-v-5b44ba93=\"\" class=\"twelve wide computer twelve wide tablet sixteen wide mobile column\"><h3 data-v-5b44ba93=\"\" class=\"job_name text-ellipsis\">Data Scientist Intern</h3> <p data-v-5b44ba93=\"\"><span data-v-5b44ba93=\"\">\n",
        "                    Internship\n",
        "                    <span data-v-5b44ba93=\"\" class=\"description-fields-separator\"> · </span></span> <span data-v-5b44ba93=\"\">\n",
        "                    Hyderabad\n",
        "                    <span data-v-5b44ba93=\"\" class=\"description-fields-separator\"> · </span></span> <span data-v-5b44ba93=\"\">\n",
        "                    0 - 4 Years\n",
        "                  </span></p></div> <div data-v-5b44ba93=\"\" class=\"four wide right aligned computer tablet only column\"><span data-v-5b44ba93=\"\" class=\"date_posted\">16 days ago</span></div></div></div><div data-v-5b44ba93=\"\" class=\"ui segment job_list_card\"><div data-v-5b44ba93=\"\" class=\"ui bottom aligned grid\"><div data-v-5b44ba93=\"\" class=\"twelve wide computer twelve wide tablet sixteen wide mobile column\"><h3 data-v-5b44ba93=\"\" class=\"job_name text-ellipsis\">Embedded Engineer</h3> <p data-v-5b44ba93=\"\"><span data-v-5b44ba93=\"\">\n",
        "                    Full-time\n",
        "                    <span data-v-5b44ba93=\"\" class=\"description-fields-separator\"> · </span></span> <span data-v-5b44ba93=\"\">\n",
        "                    Hyderabad\n",
        "                    <span data-v-5b44ba93=\"\" class=\"description-fields-separator\"> · </span></span> <span data-v-5b44ba93=\"\">\n",
        "                    2 - 4 Years\n",
        "                  </span></p></div> <div data-v-5b44ba93=\"\" class=\"four wide right aligned computer tablet only column\"><span data-v-5b44ba93=\"\" class=\"date_posted\">17 days ago</span></div></div></div><div data-v-5b44ba93=\"\" class=\"ui segment job_list_card\"><div data-v-5b44ba93=\"\" class=\"ui bottom aligned grid\"><div data-v-5b44ba93=\"\" class=\"twelve wide computer twelve wide tablet sixteen wide mobile column\"><h3 data-v-5b44ba93=\"\" class=\"job_name text-ellipsis\">System Engineer</h3> <p data-v-5b44ba93=\"\"><span data-v-5b44ba93=\"\">\n",
        "                    Internship\n",
        "                    <span data-v-5b44ba93=\"\" class=\"description-fields-separator\"> · </span></span> <span data-v-5b44ba93=\"\">\n",
        "                    Mauritius\n",
        "                    <span data-v-5b44ba93=\"\" class=\"description-fields-separator\"> · </span></span> <span data-v-5b44ba93=\"\">\n",
        "                    0 - 1 Years\n",
        "                  </span></p></div> <div data-v-5b44ba93=\"\" class=\"four wide right aligned computer tablet only column\"><span data-v-5b44ba93=\"\" class=\"date_posted\">22 days ago</span></div></div></div><div data-v-5b44ba93=\"\" class=\"ui segment job_list_card\"><div data-v-5b44ba93=\"\" class=\"ui bottom aligned grid\"><div data-v-5b44ba93=\"\" class=\"twelve wide computer twelve wide tablet sixteen wide mobile column\"><h3 data-v-5b44ba93=\"\" class=\"job_name text-ellipsis\">Associate QA Engineer</h3> <p data-v-5b44ba93=\"\"><span data-v-5b44ba93=\"\">\n",
        "                    Full-time\n",
        "                    <span data-v-5b44ba93=\"\" class=\"description-fields-separator\"> · </span></span> <span data-v-5b44ba93=\"\">\n",
        "                    Hyderabad\n",
        "                    <span data-v-5b44ba93=\"\" class=\"description-fields-separator\"> · </span></span> <span data-v-5b44ba93=\"\">\n",
        "                    1 - 3 Years\n",
        "                  </span></p></div> <div data-v-5b44ba93=\"\" class=\"four wide right aligned computer tablet only column\"><span data-v-5b44ba93=\"\" class=\"date_posted\">23 days ago</span></div></div></div><div data-v-5b44ba93=\"\" class=\"ui segment job_list_card\"><div data-v-5b44ba93=\"\" class=\"ui bottom aligned grid\"><div data-v-5b44ba93=\"\" class=\"twelve wide computer twelve wide tablet sixteen wide mobile column\"><h3 data-v-5b44ba93=\"\" class=\"job_name text-ellipsis\">Solution Architect</h3> <p data-v-5b44ba93=\"\"><span data-v-5b44ba93=\"\">\n",
        "                    Full-time\n",
        "                    <span data-v-5b44ba93=\"\" class=\"description-fields-separator\"> · </span></span> <span data-v-5b44ba93=\"\">\n",
        "                    Hyderabad\n",
        "                    <span data-v-5b44ba93=\"\" class=\"description-fields-separator\"> · </span></span> <span data-v-5b44ba93=\"\">\n",
        "                    9 - 15 Years\n",
        "                  </span></p></div> <div data-v-5b44ba93=\"\" class=\"four wide right aligned computer tablet only column\"><span data-v-5b44ba93=\"\" class=\"date_posted\">23 days ago</span></div></div></div><div data-v-5b44ba93=\"\" class=\"ui segment job_list_card\"><div data-v-5b44ba93=\"\" class=\"ui bottom aligned grid\"><div data-v-5b44ba93=\"\" class=\"twelve wide computer twelve wide tablet sixteen wide mobile column\"><h3 data-v-5b44ba93=\"\" class=\"job_name text-ellipsis\">Sr. Microservices Developer</h3> <p data-v-5b44ba93=\"\"><span data-v-5b44ba93=\"\">\n",
        "                    Full-time\n",
        "                    <span data-v-5b44ba93=\"\" class=\"description-fields-separator\"> · </span></span> <span data-v-5b44ba93=\"\">\n",
        "                    Hyderabad\n",
        "                    <span data-v-5b44ba93=\"\" class=\"description-fields-separator\"> · </span></span> <span data-v-5b44ba93=\"\">\n",
        "                    4 - 9 Years\n",
        "                  </span></p></div> <div data-v-5b44ba93=\"\" class=\"four wide right aligned computer tablet only column\"><span data-v-5b44ba93=\"\" class=\"date_posted\">a month ago</span></div></div></div><div data-v-5b44ba93=\"\" class=\"ui segment job_list_card\"><div data-v-5b44ba93=\"\" class=\"ui bottom aligned grid\"><div data-v-5b44ba93=\"\" class=\"twelve wide computer twelve wide tablet sixteen wide mobile column\"><h3 data-v-5b44ba93=\"\" class=\"job_name text-ellipsis\">Android Mobile Developer</h3> <p data-v-5b44ba93=\"\"><span data-v-5b44ba93=\"\">\n",
        "                    Full-time\n",
        "                    <span data-v-5b44ba93=\"\" class=\"description-fields-separator\"> · </span></span> <span data-v-5b44ba93=\"\">\n",
        "                    mauritius\n",
        "                    <span data-v-5b44ba93=\"\" class=\"description-fields-separator\"> · </span></span> <span data-v-5b44ba93=\"\">\n",
        "                    3 - 8 Years\n",
        "                  </span></p></div> <div data-v-5b44ba93=\"\" class=\"four wide right aligned computer tablet only column\"><span data-v-5b44ba93=\"\" class=\"date_posted\">a month ago</span></div></div></div><div data-v-5b44ba93=\"\" class=\"ui segment job_list_card\"><div data-v-5b44ba93=\"\" class=\"ui bottom aligned grid\"><div data-v-5b44ba93=\"\" class=\"twelve wide computer twelve wide tablet sixteen wide mobile column\"><h3 data-v-5b44ba93=\"\" class=\"job_name text-ellipsis\">Associate Cloud Engineer</h3> <p data-v-5b44ba93=\"\"><span data-v-5b44ba93=\"\">\n",
        "                    Full-time\n",
        "                    <span data-v-5b44ba93=\"\" class=\"description-fields-separator\"> · </span></span> <span data-v-5b44ba93=\"\">\n",
        "                    Hyderabad\n",
        "                    <span data-v-5b44ba93=\"\" class=\"description-fields-separator\"> · </span></span> <span data-v-5b44ba93=\"\">\n",
        "                    0 - 3 Years\n",
        "                  </span></p></div> <div data-v-5b44ba93=\"\" class=\"four wide right aligned computer tablet only column\"><span data-v-5b44ba93=\"\" class=\"date_posted\">a month ago</span></div></div></div><div data-v-5b44ba93=\"\" class=\"ui segment job_list_card\"><div data-v-5b44ba93=\"\" class=\"ui bottom aligned grid\"><div data-v-5b44ba93=\"\" class=\"twelve wide computer twelve wide tablet sixteen wide mobile column\"><h3 data-v-5b44ba93=\"\" class=\"job_name text-ellipsis\">Sr Full Stack Developer</h3> <p data-v-5b44ba93=\"\"><span data-v-5b44ba93=\"\">\n",
        "                    Full-time\n",
        "                    <span data-v-5b44ba93=\"\" class=\"description-fields-separator\"> · </span></span> <span data-v-5b44ba93=\"\">\n",
        "                    Mauritius\n",
        "                    <span data-v-5b44ba93=\"\" class=\"description-fields-separator\"> · </span></span> <span data-v-5b44ba93=\"\">\n",
        "                    3 - 8 Years\n",
        "                  </span></p></div> <div data-v-5b44ba93=\"\" class=\"four wide right aligned computer tablet only column\"><span data-v-5b44ba93=\"\" class=\"date_posted\">a month ago</span></div></div></div><div data-v-5b44ba93=\"\" class=\"ui segment job_list_card\"><div data-v-5b44ba93=\"\" class=\"ui bottom aligned grid\"><div data-v-5b44ba93=\"\" class=\"twelve wide computer twelve wide tablet sixteen wide mobile column\"><h3 data-v-5b44ba93=\"\" class=\"job_name text-ellipsis\">Sr SAP PI/PO Developer</h3> <p data-v-5b44ba93=\"\"><span data-v-5b44ba93=\"\">\n",
        "                    Contract\n",
        "                    <span data-v-5b44ba93=\"\" class=\"description-fields-separator\"> · </span></span> <span data-v-5b44ba93=\"\">\n",
        "                    New Jersey\n",
        "                    <span data-v-5b44ba93=\"\" class=\"description-fields-separator\"> · </span></span> <span data-v-5b44ba93=\"\">\n",
        "                    7 - 12 Years\n",
        "                  </span></p></div> <div data-v-5b44ba93=\"\" class=\"four wide right aligned computer tablet only column\"><span data-v-5b44ba93=\"\" class=\"date_posted\">a month ago</span></div></div></div><div data-v-5b44ba93=\"\" class=\"ui segment job_list_card\"><div data-v-5b44ba93=\"\" class=\"ui bottom aligned grid\"><div data-v-5b44ba93=\"\" class=\"twelve wide computer twelve wide tablet sixteen wide mobile column\"><h3 data-v-5b44ba93=\"\" class=\"job_name text-ellipsis\">Blockchain Developer</h3> <p data-v-5b44ba93=\"\"><span data-v-5b44ba93=\"\">\n",
        "                    Full-time\n",
        "                    <span data-v-5b44ba93=\"\" class=\"description-fields-separator\"> · </span></span> <span data-v-5b44ba93=\"\">\n",
        "                    Hyderabad\n",
        "                    <span data-v-5b44ba93=\"\" class=\"description-fields-separator\"> · </span></span> <span data-v-5b44ba93=\"\">\n",
        "                    1 - 4 Years\n",
        "                  </span></p></div> <div data-v-5b44ba93=\"\" class=\"four wide right aligned computer tablet only column\"><span data-v-5b44ba93=\"\" class=\"date_posted\">a month ago</span></div></div></div><div data-v-5b44ba93=\"\" class=\"ui segment job_list_card\"><div data-v-5b44ba93=\"\" class=\"ui bottom aligned grid\"><div data-v-5b44ba93=\"\" class=\"twelve wide computer twelve wide tablet sixteen wide mobile column\"><h3 data-v-5b44ba93=\"\" class=\"job_name text-ellipsis\">Junior Cloud Native Developer</h3> <p data-v-5b44ba93=\"\"><span data-v-5b44ba93=\"\">\n",
        "                    Full-time\n",
        "                    <span data-v-5b44ba93=\"\" class=\"description-fields-separator\"> · </span></span> <span data-v-5b44ba93=\"\">\n",
        "                    Delaware\n",
        "                    <span data-v-5b44ba93=\"\" class=\"description-fields-separator\"> · </span></span> <span data-v-5b44ba93=\"\">\n",
        "                    1 - 2 Years\n",
        "                  </span></p></div> <div data-v-5b44ba93=\"\" class=\"four wide right aligned computer tablet only column\"><span data-v-5b44ba93=\"\" class=\"date_posted\">2 months ago</span></div></div></div><div data-v-5b44ba93=\"\" class=\"ui segment job_list_card\"><div data-v-5b44ba93=\"\" class=\"ui bottom aligned grid\"><div data-v-5b44ba93=\"\" class=\"twelve wide computer twelve wide tablet sixteen wide mobile column\"><h3 data-v-5b44ba93=\"\" class=\"job_name text-ellipsis\">Senior DevOps Engineer</h3> <p data-v-5b44ba93=\"\"><span data-v-5b44ba93=\"\">\n",
        "                    Full-time\n",
        "                    <span data-v-5b44ba93=\"\" class=\"description-fields-separator\"> · </span></span> <span data-v-5b44ba93=\"\">\n",
        "                    Hyderabad\n",
        "                    <span data-v-5b44ba93=\"\" class=\"description-fields-separator\"> · </span></span> <span data-v-5b44ba93=\"\">\n",
        "                    3 - 10 Years\n",
        "                  </span></p></div> <div data-v-5b44ba93=\"\" class=\"four wide right aligned computer tablet only column\"><span data-v-5b44ba93=\"\" class=\"date_posted\">2 months ago</span></div></div></div><div data-v-5b44ba93=\"\" class=\"ui segment job_list_card\"><div data-v-5b44ba93=\"\" class=\"ui bottom aligned grid\"><div data-v-5b44ba93=\"\" class=\"twelve wide computer twelve wide tablet sixteen wide mobile column\"><h3 data-v-5b44ba93=\"\" class=\"job_name text-ellipsis\">Lead DevOps Engineer </h3> <p data-v-5b44ba93=\"\"><span data-v-5b44ba93=\"\">\n",
        "                    Full-time\n",
        "                    <span data-v-5b44ba93=\"\" class=\"description-fields-separator\"> · </span></span> <span data-v-5b44ba93=\"\">\n",
        "                    Hyderabad\n",
        "                    <span data-v-5b44ba93=\"\" class=\"description-fields-separator\"> · </span></span> <span data-v-5b44ba93=\"\">\n",
        "                    5 - 11 Years\n",
        "                  </span></p></div> <div data-v-5b44ba93=\"\" class=\"four wide right aligned computer tablet only column\"><span data-v-5b44ba93=\"\" class=\"date_posted\">2 months ago</span></div></div></div><div data-v-5b44ba93=\"\" class=\"ui segment job_list_card\"><div data-v-5b44ba93=\"\" class=\"ui bottom aligned grid\"><div data-v-5b44ba93=\"\" class=\"twelve wide computer twelve wide tablet sixteen wide mobile column\"><h3 data-v-5b44ba93=\"\" class=\"job_name text-ellipsis\">Site Reliability Engineer</h3> <p data-v-5b44ba93=\"\"><span data-v-5b44ba93=\"\">\n",
        "                    Full-time\n",
        "                    <span data-v-5b44ba93=\"\" class=\"description-fields-separator\"> · </span></span> <span data-v-5b44ba93=\"\">\n",
        "                    New York\n",
        "                    <span data-v-5b44ba93=\"\" class=\"description-fields-separator\"> · </span></span> <span data-v-5b44ba93=\"\">\n",
        "                    1 - 3 Years\n",
        "                  </span></p></div> <div data-v-5b44ba93=\"\" class=\"four wide right aligned computer tablet only column\"><span data-v-5b44ba93=\"\" class=\"date_posted\">2 months ago</span></div></div></div><div data-v-5b44ba93=\"\" class=\"ui segment job_list_card\"><div data-v-5b44ba93=\"\" class=\"ui bottom aligned grid\"><div data-v-5b44ba93=\"\" class=\"twelve wide computer twelve wide tablet sixteen wide mobile column\"><h3 data-v-5b44ba93=\"\" class=\"job_name text-ellipsis\">OSS DevOps Engineer</h3> <p data-v-5b44ba93=\"\"><span data-v-5b44ba93=\"\">\n",
        "                    Full-time\n",
        "                    <span data-v-5b44ba93=\"\" class=\"description-fields-separator\"> · </span></span> <span data-v-5b44ba93=\"\">\n",
        "                    Hyderabad\n",
        "                    <span data-v-5b44ba93=\"\" class=\"description-fields-separator\"> · </span></span> <span data-v-5b44ba93=\"\">\n",
        "                    6 - 12 Years\n",
        "                  </span></p></div> <div data-v-5b44ba93=\"\" class=\"four wide right aligned computer tablet only column\"><span data-v-5b44ba93=\"\" class=\"date_posted\">2 months ago</span></div></div></div><div data-v-5b44ba93=\"\" class=\"ui segment job_list_card\"><div data-v-5b44ba93=\"\" class=\"ui bottom aligned grid\"><div data-v-5b44ba93=\"\" class=\"twelve wide computer twelve wide tablet sixteen wide mobile column\"><h3 data-v-5b44ba93=\"\" class=\"job_name text-ellipsis\">Sr SDET</h3> <p data-v-5b44ba93=\"\"><span data-v-5b44ba93=\"\">\n",
        "                    Full-time\n",
        "                    <span data-v-5b44ba93=\"\" class=\"description-fields-separator\"> · </span></span> <span data-v-5b44ba93=\"\">\n",
        "                    New York\n",
        "                    <span data-v-5b44ba93=\"\" class=\"description-fields-separator\"> · </span></span> <span data-v-5b44ba93=\"\">\n",
        "                    3 - 10 Years\n",
        "                  </span></p></div> <div data-v-5b44ba93=\"\" class=\"four wide right aligned computer tablet only column\"><span data-v-5b44ba93=\"\" class=\"date_posted\">2 months ago</span></div></div></div></div><div data-v-5b44ba93=\"\" class=\"ui segments\"><div data-v-5b44ba93=\"\" class=\"ui segment\"><h2 data-v-5b44ba93=\"\"><i data-v-5b44ba93=\"\" class=\"param-icon icon param-icon-link_circle\" style=\"color: rgb(7, 136, 155);\"></i> Facial recognition</h2></div> <div data-v-5b44ba93=\"\" class=\"ui segment job_list_card\"><div data-v-5b44ba93=\"\" class=\"ui bottom aligned grid\"><div data-v-5b44ba93=\"\" class=\"twelve wide computer twelve wide tablet sixteen wide mobile column\"><h3 data-v-5b44ba93=\"\" class=\"job_name text-ellipsis\">Machine Learning Engineer</h3> <p data-v-5b44ba93=\"\"><span data-v-5b44ba93=\"\">\n",
        "                    Full-time\n",
        "                    <span data-v-5b44ba93=\"\" class=\"description-fields-separator\"> · </span></span> <span data-v-5b44ba93=\"\">\n",
        "                    Hyderabad\n",
        "                    <span data-v-5b44ba93=\"\" class=\"description-fields-separator\"> · </span></span> <span data-v-5b44ba93=\"\">\n",
        "                    3 - 5 Years\n",
        "                  </span></p></div> <div data-v-5b44ba93=\"\" class=\"four wide right aligned computer tablet only column\"><span data-v-5b44ba93=\"\" class=\"date_posted\">2 months ago</span></div></div></div></div></div>\n",
        " \"\"\""
      ],
      "execution_count": 0,
      "outputs": []
    },
    {
      "metadata": {
        "id": "Za37NMxCFIOl",
        "colab_type": "text"
      },
      "cell_type": "markdown",
      "source": [
        "**Let's create a soup object**"
      ]
    },
    {
      "metadata": {
        "id": "Achg2XvDEvH0",
        "colab_type": "code",
        "colab": {}
      },
      "cell_type": "code",
      "source": [
        "soup = BeautifulSoup(html, 'lxml')"
      ],
      "execution_count": 0,
      "outputs": []
    },
    {
      "metadata": {
        "id": "eH9gIyVRFQcf",
        "colab_type": "text"
      },
      "cell_type": "markdown",
      "source": [
        "**DATA PRE-PROCESSING**"
      ]
    },
    {
      "metadata": {
        "id": "ixEekz3PEJgp",
        "colab_type": "code",
        "colab": {}
      },
      "cell_type": "code",
      "source": [
        "#Let's extract all job titles from the source in forn of list\n",
        "all_job_title_list = []\n",
        "for all_job_title in soup.find_all(\"h3\" ,   {\"class\" : \"job_name text-ellipsis\"}):\n",
        "  #print(all_job_title.text)\n",
        "  all_job_title_list.append(all_job_title.text)"
      ],
      "execution_count": 0,
      "outputs": []
    },
    {
      "metadata": {
        "id": "dTNUz5GoEwwk",
        "colab_type": "code",
        "colab": {}
      },
      "cell_type": "code",
      "source": [
        "#Let's extract all job dates posted  from the source in forn of list\n",
        "all_date_posted_list = []\n",
        "for all_date_posted in soup.find_all(\"span\" ,   {\"class\" : \"date_posted\"}):\n",
        "    #print(all_date_posted.text)\n",
        "    all_date_posted_list.append(all_date_posted.text)"
      ],
      "execution_count": 0,
      "outputs": []
    },
    {
      "metadata": {
        "id": "OXaVL3sCGOz4",
        "colab_type": "code",
        "colab": {}
      },
      "cell_type": "code",
      "source": [
        "#replace \"a days ago \" with \"1\"\n",
        "for n, i in enumerate(all_date_posted_list):\n",
        "  if i == \"a day ago\":\n",
        "    all_date_posted_list[n] = 1\n",
        "#replace \"a days ago \" with \"1\"\n",
        "for n, i in enumerate(all_date_posted_list):\n",
        "  if i == \"a month ago\":\n",
        "    all_date_posted_list[n] = 30\n",
        "#replace \"a days ago \" with \"1\"\n",
        "for n, i in enumerate(all_date_posted_list):\n",
        "  if i == \"2 months ago\":\n",
        "    all_date_posted_list[n] = 60"
      ],
      "execution_count": 0,
      "outputs": []
    },
    {
      "metadata": {
        "id": "M7exMNP4HKyy",
        "colab_type": "code",
        "colab": {}
      },
      "cell_type": "code",
      "source": [
        "#you can see  the uncleaned data by running this cell , (don't forget to remove \"#\" before running)\n",
        "#all_date_posted_list"
      ],
      "execution_count": 0,
      "outputs": []
    },
    {
      "metadata": {
        "id": "eCbs-rpZHiPR",
        "colab_type": "text"
      },
      "cell_type": "markdown",
      "source": [
        "**Let's clean this dirty data , by using regular expressions as the data is mixture of alphabets , numbers , special characters **\n",
        "\n",
        "***To use regular expressions , we will first import the uncleaned files as a text file for further operations of regular expressions.***"
      ]
    },
    {
      "metadata": {
        "id": "5UJxol8NHKqS",
        "colab_type": "code",
        "colab": {}
      },
      "cell_type": "code",
      "source": [
        "with open('techolution_job_dates.txt', 'w') as f:\n",
        "    for item in all_date_posted_list:\n",
        "        f.write(\"%s\\n\" % item)"
      ],
      "execution_count": 0,
      "outputs": []
    },
    {
      "metadata": {
        "id": "mOjkipwfIMl7",
        "colab_type": "code",
        "colab": {
          "base_uri": "https://localhost:8080/",
          "height": 34
        },
        "outputId": "5600cb36-18f1-428f-cd28-54efea86c04b"
      },
      "cell_type": "code",
      "source": [
        "# load text\n",
        "filename = 'techolution_job_dates.txt'\n",
        "file = open(filename, 'rt')\n",
        "text = file.read()\n",
        "file.close()\n",
        "# split based on words only\n",
        "import re\n",
        "date_posted_list_numbers = re.split(r'\\D+', text)\n",
        "print(date_posted_list_numbers[:500])\n",
        "\n",
        "#this  will print the days in form of strings but not in integers with a whitespace at the end"
      ],
      "execution_count": 10,
      "outputs": [
        {
          "output_type": "stream",
          "text": [
            "['1', '13', '14', '16', '17', '22', '23', '23', '30', '30', '30', '30', '30', '30', '60', '60', '60', '60', '60', '60', '60', '']\n"
          ],
          "name": "stdout"
        }
      ]
    },
    {
      "metadata": {
        "id": "I1vg3V5gIq86",
        "colab_type": "code",
        "colab": {}
      },
      "cell_type": "code",
      "source": [
        "#lets convert the string data of the list into an int data with no whitespace at the end\n",
        "changed = list(map(int, date_posted_list_numbers[:-1])) "
      ],
      "execution_count": 0,
      "outputs": []
    },
    {
      "metadata": {
        "id": "gA0F9GmgJKVk",
        "colab_type": "code",
        "colab": {}
      },
      "cell_type": "code",
      "source": [
        "semi_data = pd.DataFrame({'job_title': all_job_title_list, 'date_posted': changed })\n",
        "#i am calling this as semi data , because this data is good but not as far problem statement\n",
        "# so let's manipulate the data , to get our final data\n"
      ],
      "execution_count": 0,
      "outputs": []
    },
    {
      "metadata": {
        "id": "doFJQBcHJixl",
        "colab_type": "code",
        "colab": {
          "base_uri": "https://localhost:8080/",
          "height": 677
        },
        "outputId": "2a4d53ea-7aae-470f-fcc1-1391b505eb6c"
      },
      "cell_type": "code",
      "source": [
        "#converting to dictionaries so that i can sort the jobs as oldest first by keeping job_title as keys and job_posted as values\n",
        "data_dict = semi_data.set_index('job_title')['date_posted'].to_dict()\n",
        "\n",
        "#but this is not what we require so lets sort the job titles using job dates\n",
        "#this will sort job_titles by using date_posted \n",
        "semi_data[\"job_title\"] = sorted(data_dict, key=data_dict.__getitem__, reverse = False)\n",
        "\n",
        "#lets replace the sorted job titles using job dates with the semi date's job titles\n",
        "#and we will store them in final_data\n",
        "final_data = semi_data.sort_values(['date_posted','job_title'] , ascending=False)\n",
        "#final_data\n",
        "\n",
        "#after printing the final_data , i found that the index are not in correct positions\n",
        "\n",
        "#so what we are going to do is ,\n",
        "#we will reset the index \n",
        "final_data.reset_index()\n",
        "#and we will drop the newly created index column\n",
        "final_data = final_data.reset_index(drop = True)\n",
        "\n",
        "#now , lets have a look at our final data\n",
        "final_data"
      ],
      "execution_count": 16,
      "outputs": [
        {
          "output_type": "execute_result",
          "data": {
            "text/html": [
              "<div>\n",
              "<style scoped>\n",
              "    .dataframe tbody tr th:only-of-type {\n",
              "        vertical-align: middle;\n",
              "    }\n",
              "\n",
              "    .dataframe tbody tr th {\n",
              "        vertical-align: top;\n",
              "    }\n",
              "\n",
              "    .dataframe thead th {\n",
              "        text-align: right;\n",
              "    }\n",
              "</style>\n",
              "<table border=\"1\" class=\"dataframe\">\n",
              "  <thead>\n",
              "    <tr style=\"text-align: right;\">\n",
              "      <th></th>\n",
              "      <th>job_title</th>\n",
              "      <th>date_posted</th>\n",
              "    </tr>\n",
              "  </thead>\n",
              "  <tbody>\n",
              "    <tr>\n",
              "      <th>0</th>\n",
              "      <td>Sr SDET</td>\n",
              "      <td>60</td>\n",
              "    </tr>\n",
              "    <tr>\n",
              "      <th>1</th>\n",
              "      <td>Site Reliability Engineer</td>\n",
              "      <td>60</td>\n",
              "    </tr>\n",
              "    <tr>\n",
              "      <th>2</th>\n",
              "      <td>Senior DevOps Engineer</td>\n",
              "      <td>60</td>\n",
              "    </tr>\n",
              "    <tr>\n",
              "      <th>3</th>\n",
              "      <td>OSS DevOps Engineer</td>\n",
              "      <td>60</td>\n",
              "    </tr>\n",
              "    <tr>\n",
              "      <th>4</th>\n",
              "      <td>Machine Learning Engineer</td>\n",
              "      <td>60</td>\n",
              "    </tr>\n",
              "    <tr>\n",
              "      <th>5</th>\n",
              "      <td>Lead DevOps Engineer</td>\n",
              "      <td>60</td>\n",
              "    </tr>\n",
              "    <tr>\n",
              "      <th>6</th>\n",
              "      <td>Junior Cloud Native Developer</td>\n",
              "      <td>60</td>\n",
              "    </tr>\n",
              "    <tr>\n",
              "      <th>7</th>\n",
              "      <td>Sr. Microservices Developer</td>\n",
              "      <td>30</td>\n",
              "    </tr>\n",
              "    <tr>\n",
              "      <th>8</th>\n",
              "      <td>Sr SAP PI/PO Developer</td>\n",
              "      <td>30</td>\n",
              "    </tr>\n",
              "    <tr>\n",
              "      <th>9</th>\n",
              "      <td>Sr Full Stack Developer</td>\n",
              "      <td>30</td>\n",
              "    </tr>\n",
              "    <tr>\n",
              "      <th>10</th>\n",
              "      <td>Blockchain Developer</td>\n",
              "      <td>30</td>\n",
              "    </tr>\n",
              "    <tr>\n",
              "      <th>11</th>\n",
              "      <td>Associate Cloud Engineer</td>\n",
              "      <td>30</td>\n",
              "    </tr>\n",
              "    <tr>\n",
              "      <th>12</th>\n",
              "      <td>Android Mobile Developer</td>\n",
              "      <td>30</td>\n",
              "    </tr>\n",
              "    <tr>\n",
              "      <th>13</th>\n",
              "      <td>Solution Architect</td>\n",
              "      <td>23</td>\n",
              "    </tr>\n",
              "    <tr>\n",
              "      <th>14</th>\n",
              "      <td>Associate QA Engineer</td>\n",
              "      <td>23</td>\n",
              "    </tr>\n",
              "    <tr>\n",
              "      <th>15</th>\n",
              "      <td>System Engineer</td>\n",
              "      <td>22</td>\n",
              "    </tr>\n",
              "    <tr>\n",
              "      <th>16</th>\n",
              "      <td>Embedded Engineer</td>\n",
              "      <td>17</td>\n",
              "    </tr>\n",
              "    <tr>\n",
              "      <th>17</th>\n",
              "      <td>Data Scientist Intern</td>\n",
              "      <td>16</td>\n",
              "    </tr>\n",
              "    <tr>\n",
              "      <th>18</th>\n",
              "      <td>Cloud Native Developer</td>\n",
              "      <td>14</td>\n",
              "    </tr>\n",
              "    <tr>\n",
              "      <th>19</th>\n",
              "      <td>Senior Cloud Specialist</td>\n",
              "      <td>13</td>\n",
              "    </tr>\n",
              "    <tr>\n",
              "      <th>20</th>\n",
              "      <td>Sr.QA Engineer</td>\n",
              "      <td>1</td>\n",
              "    </tr>\n",
              "  </tbody>\n",
              "</table>\n",
              "</div>"
            ],
            "text/plain": [
              "                        job_title  date_posted\n",
              "0                         Sr SDET           60\n",
              "1       Site Reliability Engineer           60\n",
              "2          Senior DevOps Engineer           60\n",
              "3             OSS DevOps Engineer           60\n",
              "4       Machine Learning Engineer           60\n",
              "5           Lead DevOps Engineer            60\n",
              "6   Junior Cloud Native Developer           60\n",
              "7     Sr. Microservices Developer           30\n",
              "8          Sr SAP PI/PO Developer           30\n",
              "9         Sr Full Stack Developer           30\n",
              "10           Blockchain Developer           30\n",
              "11       Associate Cloud Engineer           30\n",
              "12       Android Mobile Developer           30\n",
              "13             Solution Architect           23\n",
              "14          Associate QA Engineer           23\n",
              "15                System Engineer           22\n",
              "16              Embedded Engineer           17\n",
              "17          Data Scientist Intern           16\n",
              "18         Cloud Native Developer           14\n",
              "19        Senior Cloud Specialist           13\n",
              "20                 Sr.QA Engineer            1"
            ]
          },
          "metadata": {
            "tags": []
          },
          "execution_count": 16
        }
      ]
    },
    {
      "metadata": {
        "id": "FhNl8o2VNO6B",
        "colab_type": "text"
      },
      "cell_type": "markdown",
      "source": [
        "**conclusion**\n",
        "why did i ,select this  path as there are different ways/algorithms to scrap the data.\n",
        "\n",
        "*a detailed explanation :)*\n",
        "\n",
        "\n",
        "*   I selected pandas for data manipulation and analysis , as it has many inbuilt features which increases not only my project efficiency but also has a large community support\n",
        "*  using beatifullsoup4 was a great choice for me when to compared to scrapy as i found , its clean , efficient , fast , easy , done my job with few lines of code.\n",
        "* usingthe regular expressions , i think is better way of data which is quite unstructed containg charcaters , letters , numbers , punctutations , i found regular expressions as great help in such cases.\n",
        "* another wonderfull library i used is urllib , which is great supporter when you are doing web scraping \n",
        "* i also used  some concepts like dictionaries , list , sorting , convertions to csv , saving text file etc which makes the project extremely super  easy for extracting insights and to perform further algorithms or analysis.\n",
        "\n",
        "**This are few points , why i used the above concepts / path inspite of different ways/algorithms to scrap the data**\n",
        "\n",
        "**Note:**\n",
        "***I dont claim this path as the best , there may be  or may not be other paths , this is just one of the path, \n",
        "which makes me ,do this project efficienctly ,accurately , fastly , open to learn new ways/algorithms for scarping the  data ***"
      ]
    },
    {
      "metadata": {
        "id": "PDGnAPNZMP6Z",
        "colab_type": "code",
        "colab": {}
      },
      "cell_type": "code",
      "source": [
        ""
      ],
      "execution_count": 0,
      "outputs": []
    },
    {
      "metadata": {
        "id": "dV0eoonsRJR1",
        "colab_type": "text"
      },
      "cell_type": "markdown",
      "source": [
        "**I thank the [techolution](https://www.techolution.com/) for providing such a great opportunity and the HR Team for having an wonderfull follow up , looking forward to work with such  innovators and passionate's  , with regards , [Satyam Sharma](https://www.linkedin.com/in/amrahsmaytas/)**"
      ]
    },
    {
      "metadata": {
        "id": "MtFSnhubTqoy",
        "colab_type": "code",
        "colab": {}
      },
      "cell_type": "code",
      "source": [
        ""
      ],
      "execution_count": 0,
      "outputs": []
    }
  ]
}